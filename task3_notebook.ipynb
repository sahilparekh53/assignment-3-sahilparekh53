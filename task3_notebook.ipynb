{
 "cells": [
  {
   "cell_type": "markdown",
   "id": "317b7e90",
   "metadata": {},
   "source": [
    "# Assignment 3: Company Directorships Analysis\n",
    "### Tasks 1–3"
   ]
  },
  {
   "cell_type": "markdown",
   "id": "73a2023c",
   "metadata": {},
   "source": [
    "## Setup and Data Loading"
   ]
  },
  {
   "cell_type": "code",
   "execution_count": null,
   "id": "13926ac3",
   "metadata": {},
   "outputs": [],
   "source": [
    "import pandas as pd\n",
    "import numpy as np\n",
    "import math\n",
    "import matplotlib.pyplot as plt\n",
    "import networkx as nx\n",
    "\n",
    "# Load and clean data\n",
    "company_directorships = pd.read_csv('company_directorships.csv')\n",
    "company_directorships['software_background'] = (\n",
    "    company_directorships['software_background']\n",
    "      .str.strip()\n",
    "      .str.lower()\n",
    "      .map({'t': True, 'f': False})\n",
    ")\n"
   ]
  },
  {
   "cell_type": "code",
   "execution_count": null,
   "id": "cfe55cf2",
   "metadata": {},
   "outputs": [],
   "source": [
    "# Load demographics and compensation\n",
    "comp_raw = pd.read_csv('director-details.csv')\n",
    "comp_raw['NAME'] = comp_raw['name'].str.upper()\n",
    "\n",
    "# One-pass aggregation\n",
    "from statistics import mode\n",
    "def most_common(series):\n",
    "    modes = series.mode()\n",
    "    return modes[0] if len(modes) else None\n",
    "\n",
    "agg_funcs = {\n",
    "    'age': 'max',\n",
    "    'compensation': 'sum',\n",
    "    'gender': most_common\n",
    "}\n",
    "comp_demo = (\n",
    "    comp_raw\n",
    "      .groupby('NAME')\n",
    "      .agg(agg_funcs)\n",
    "      .assign(log_compensation=lambda df: np.log10(df.compensation + 1))\n",
    ")\n"
   ]
  },
  {
   "cell_type": "code",
   "execution_count": null,
   "id": "a9e89728",
   "metadata": {},
   "outputs": [],
   "source": [
    "# Handle missing/unknown genders\n",
    "comp_demo['gender'] = (\n",
    "    comp_demo['gender']\n",
    "      .str.lower()\n",
    "      .replace('unknown', np.nan)\n",
    ")\n",
    "n_dropped = comp_demo.gender.isna().sum()\n",
    "print(f\"Dropping {n_dropped} directors with missing gender\")\n",
    "comp_demo = comp_demo.dropna(subset=['gender'])\n"
   ]
  },
  {
   "cell_type": "markdown",
   "id": "00a93c0d",
   "metadata": {},
   "source": [
    "## Task 1: Centrality Measures"
   ]
  },
  {
   "cell_type": "code",
   "execution_count": null,
   "id": "d13b9b42",
   "metadata": {},
   "outputs": [],
   "source": [
    "# Build graph\n",
    "G = nx.Graph()\n",
    "for comp, director in zip(company_directorships.company_name, company_directorships.director_name):\n",
    "    G.add_edge(comp, director)\n",
    "\n",
    "# Largest connected component\n",
    "largest_cc = max(nx.connected_components(G), key=len)\n",
    "G_sub = G.subgraph(largest_cc).copy()\n",
    "\n",
    "# Compute centrality measures\n",
    "eigen = nx.eigenvector_centrality(G_sub, max_iter=1000, tol=1e-6)\n",
    "degree = nx.degree_centrality(G_sub)\n",
    "between = nx.betweenness_centrality(G_sub, normalized=True)\n",
    "\n",
    "centrality = pd.DataFrame({\n",
    "    'eigen': pd.Series(eigen),\n",
    "    'degree': pd.Series(degree),\n",
    "    'betweenness': pd.Series(between)\n",
    "})\n",
    "centrality['is_person'] = centrality.index.isin(company_directorships.director_name.unique())\n",
    "people_df = centrality[centrality.is_person].merge(comp_demo, left_index=True, right_index=True)\n",
    "\n",
    "# Inspect top directors\n",
    "print(\"Top 5 by Eigenvector Centrality:\\n\", people_df['eigen'].nlargest(5), \"\\n\")\n",
    "print(\"Top 5 by Degree Centrality:\\n\", people_df['degree'].nlargest(5), \"\\n\")\n",
    "print(\"Top 5 by Betweenness Centrality:\\n\", people_df['betweenness'].nlargest(5))\n"
   ]
  },
  {
   "cell_type": "markdown",
   "id": "23737e5a",
   "metadata": {},
   "source": [
    "### Interpretation\n",
    "- **Degree centrality**: number of direct board connections.\n",
    "- **Eigenvector centrality**: influence through connections to other well-connected nodes.\n",
    "- **Betweenness centrality**: bridges between parts of the network, indicating broker roles.\n"
   ]
  },
  {
   "cell_type": "markdown",
   "id": "e0894cf1",
   "metadata": {},
   "source": [
    "## Task 2: Code Refactoring Highlights\n",
    "Below are four key refactoring points with improved code snippets for clarity, performance, and robustness:"
   ]
  },
  {
   "cell_type": "markdown",
   "id": "f7d6d3f3",
   "metadata": {},
   "source": [
    "1. **software_background conversion**: vectorized `.map({...})`, preserving NaNs.\n",
    "2. **One-pass demographic aggregation**: single `groupby().agg()` plus `.assign()`.\n",
    "3. **Gender cleaning**: explicit `'unknown'`→NaN and `dropna()`.\n",
    "4. **Directorship counts log-scaling**: plot distribution of log10(#boards + 1) directly."
   ]
  },
  {
   "cell_type": "markdown",
   "id": "cd9a732d",
   "metadata": {},
   "source": [
    "#### Refactored Code Snippets"
   ]
  },
  {
   "cell_type": "code",
   "execution_count": null,
   "id": "8e8756ae",
   "metadata": {},
   "outputs": [],
   "source": [
    "# 1. software_background conversion (see above cell)"
   ]
  },
  {
   "cell_type": "code",
   "execution_count": null,
   "id": "bc6e3bf4",
   "metadata": {},
   "outputs": [],
   "source": [
    "# 2. One-pass demographic aggregation (see above cell)"
   ]
  },
  {
   "cell_type": "code",
   "execution_count": null,
   "id": "5b04d8fd",
   "metadata": {},
   "outputs": [],
   "source": [
    "# 3. Gender cleaning (see above cell)"
   ]
  },
  {
   "cell_type": "code",
   "execution_count": null,
   "id": "ebda5d8a",
   "metadata": {},
   "outputs": [],
   "source": [
    "# 4. Log-scaled directorship counts\n",
    "counts = company_directorships.groupby('director_name').company_name.nunique()\n",
    "log_counts = np.log10(counts + 1)\n",
    "log_counts.hist(bins=20)\n",
    "plt.title(\"Log10(#Boards + 1) per Director\")\n",
    "plt.xlabel(\"Log10(#Boards + 1)\")\n",
    "plt.ylabel(\"Number of Directors\")\n",
    "plt.show()\n"
   ]
  },
  {
   "cell_type": "markdown",
   "id": "ee567cc9",
   "metadata": {},
   "source": [
    "## Task 3: Exploratory Feature — Software Background"
   ]
  },
  {
   "cell_type": "code",
   "execution_count": null,
   "id": "030aaf98",
   "metadata": {},
   "outputs": [],
   "source": [
    "# Merge software background into people_df\n",
    "sb = (\n",
    "    company_directorships[['director_name','software_background']]\n",
    "      .drop_duplicates()\n",
    "      .set_index('director_name')\n",
    ")\n",
    "people_df = people_df.merge(sb, left_index=True, right_index=True)\n",
    "\n",
    "# Compute and display summary by software background\n",
    "summary = (\n",
    "    people_df\n",
    "      .groupby('software_background')\n",
    "      .agg(\n",
    "         n_directors=('age','size'),\n",
    "         median_comp=('compensation','median'),\n",
    "         avg_degree=('degree','mean'),\n",
    "         avg_eigen=('eigen','mean')\n",
    "      )\n",
    ")\n",
    "print(summary)\n"
   ]
  }
 ],
 "metadata": {},
 "nbformat": 4,
 "nbformat_minor": 5
}
