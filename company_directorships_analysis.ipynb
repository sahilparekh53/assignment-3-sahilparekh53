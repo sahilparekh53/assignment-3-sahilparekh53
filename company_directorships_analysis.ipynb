{
 "cells": [
  {
   "cell_type": "code",
   "execution_count": null,
   "id": "08ffb3d3",
   "metadata": {},
   "outputs": [],
   "source": [
    "import pandas as pd\n",
    "import math\n",
    "import matplotlib.pyplot as plt\n",
    "import seaborn as sns\n",
    "import networkx as nx\n",
    "from sklearn.preprocessing import RobustScaler\n",
    "from sklearn.cluster import DBSCAN"
   ]
  },
  {
   "cell_type": "markdown",
   "id": "ec7cf9e7",
   "metadata": {},
   "source": [
    "# Company Directorships Analysis\n",
    "This notebook analyzes board directorships, demographics, and compensation."
   ]
  },
  {
   "cell_type": "code",
   "execution_count": null,
   "id": "1c273bc4",
   "metadata": {},
   "outputs": [],
   "source": [
    "# Load and clean data\n",
    "company_directorships = pd.read_csv('company_directorships.csv')\n",
    "company_directorships['software_background'] = (\n",
    "    company_directorships['software_background']\n",
    "        .fillna('f')\n",
    "        .str.lower()\n",
    "        .map(lambda x: x == 't')\n",
    ")\n",
    "company_directorships.sample(5)"
   ]
  },
  {
   "cell_type": "code",
   "execution_count": null,
   "id": "3c65c72d",
   "metadata": {},
   "outputs": [],
   "source": [
    "# Load demographics and compensation\n",
    "comp_raw = pd.read_csv('director-details.csv')\n",
    "comp_raw['NAME'] = comp_raw['name'].str.upper()\n",
    "\n",
    "def most_common(series):\n",
    "    modes = series.mode()\n",
    "    return modes[0] if len(modes) else None\n",
    "\n",
    "comp_demo = pd.DataFrame({\n",
    "    'age': comp_raw.groupby('NAME').age.max(),\n",
    "    'compensation': comp_raw.groupby('NAME').compensation.sum(),\n",
    "    'gender': comp_raw.groupby('NAME').gender.agg(most_common)\n",
    "})\n",
    "comp_demo['log_compensation'] = (1 + comp_demo.compensation).map(math.log10)\n",
    "comp_demo.head()"
   ]
  },
  {
   "cell_type": "code",
   "execution_count": null,
   "id": "ee973b22",
   "metadata": {},
   "outputs": [],
   "source": [
    "# Handle missing genders\n",
    "mask = comp_demo.gender.isin([None, 'unknown'])\n",
    "print(f\"Dropping {mask.sum()} missing/unknown genders\")\n",
    "comp_demo = comp_demo[~mask]\n",
    "comp_demo.gender.value_counts()"
   ]
  },
  {
   "cell_type": "code",
   "execution_count": null,
   "id": "e648022e",
   "metadata": {},
   "outputs": [],
   "source": [
    "# Directorship counts plot\n",
    "directorship_counts = company_directorships.groupby('director_name').company_name.nunique().sort_values()\n",
    "ax = directorship_counts.value_counts().sort_index().map(math.log10).plot()\n",
    "ax.set_title(\"Log10 Directorship Count Distribution\")\n",
    "ax.set_xlabel(\"Boards per Director (log10)\")\n",
    "ax.set_ylabel(\"Number of Directors (log10)\")\n",
    "plt.show()"
   ]
  },
  {
   "cell_type": "markdown",
   "id": "5f7ce12f",
   "metadata": {},
   "source": [
    "## Build network graph"
   ]
  },
  {
   "cell_type": "code",
   "execution_count": null,
   "id": "7949ff3a",
   "metadata": {},
   "outputs": [],
   "source": [
    "G = nx.Graph()\n",
    "for comp, director in zip(company_directorships.company_name, company_directorships.director_name):\n",
    "    G.add_edge(comp, director)\n",
    "\n",
    "# Largest connected component\n",
    "largest_cc = max(nx.connected_components(G), key=len)\n",
    "print(f\"Largest CC size: {len(largest_cc)}\")\n",
    "G_sub = G.subgraph(largest_cc).copy()"
   ]
  },
  {
   "cell_type": "markdown",
   "id": "e5ed8af7",
   "metadata": {},
   "source": [
    "## Centrality Measures\n",
    "- **Eigenvector centrality**: influential nodes\n",
    "- **Degree centrality**: nodes with many connections"
   ]
  },
  {
   "cell_type": "code",
   "execution_count": null,
   "id": "ea2f7263",
   "metadata": {},
   "outputs": [],
   "source": [
    "centrality = pd.DataFrame({\n",
    "    'eigen': pd.Series(nx.eigenvector_centrality(G_sub, max_iter=1000, tol=1e-6)),\n",
    "    'degree': pd.Series(nx.degree_centrality(G_sub))\n",
    "})\n",
    "centrality['is_person'] = centrality.index.isin(company_directorships.director_name.unique())\n",
    "people_df = centrality[centrality.is_person].merge(comp_demo, left_index=True, right_index=True)\n",
    "people_df.sort_values('eigen', ascending=False).head()"
   ]
  },
  {
   "cell_type": "markdown",
   "id": "bdd407f4",
   "metadata": {},
   "source": [
    "## Exploratory Data Analysis"
   ]
  },
  {
   "cell_type": "code",
   "execution_count": null,
   "id": "0d798e77",
   "metadata": {},
   "outputs": [],
   "source": [
    "# Age distribution\n",
    "people_df['age'].hist(bins=20)\n",
    "plt.title(\"Age Distribution of Directors\")\n",
    "plt.xlabel(\"Age\")\n",
    "plt.ylabel(\"Count\")\n",
    "plt.show()\n",
    "\n",
    "# Gender breakdown\n",
    "comp_demo.gender.value_counts().plot.bar()\n",
    "plt.title(\"Gender Breakdown\")\n",
    "plt.xlabel(\"Gender\")\n",
    "plt.ylabel(\"Count\")\n",
    "plt.show()\n",
    "\n",
    "# Log compensation boxplot\n",
    "people_df['log_compensation'].plot.box()\n",
    "plt.title(\"Log10 Compensation Boxplot\")\n",
    "plt.ylabel(\"Log10(compensation + 1)\")\n",
    "plt.show()\n",
    "\n",
    "# Correlation heatmap\n",
    "corr = people_df[['age','log_compensation','degree','eigen']].corr()\n",
    "sns.heatmap(corr, annot=True)\n",
    "plt.title(\"Feature Correlation Matrix\")\n",
    "plt.show()"
   ]
  },
  {
   "cell_type": "markdown",
   "id": "1bdde2e0",
   "metadata": {},
   "source": [
    "## Clustering with DBSCAN"
   ]
  },
  {
   "cell_type": "code",
   "execution_count": null,
   "id": "637aa359",
   "metadata": {},
   "outputs": [],
   "source": [
    "# Scale features\n",
    "scaler = RobustScaler()\n",
    "X = scaler.fit_transform(people_df[['age','log_compensation','degree','eigen']])\n",
    "\n",
    "# DBSCAN\n",
    "db = DBSCAN(eps=0.4, min_samples=5)\n",
    "people_df['cluster_id'] = db.fit_predict(X)\n",
    "print(people_df.cluster_id.value_counts())"
   ]
  },
  {
   "cell_type": "code",
   "execution_count": null,
   "id": "b79ddd96",
   "metadata": {},
   "outputs": [],
   "source": [
    "# Scatter plot of clusters\n",
    "sc = plt.scatter(people_df['age'], people_df['log_compensation'],\n",
    "                 c=people_df['cluster_id'], cmap='rainbow', s=6)\n",
    "cbar = plt.colorbar(sc)\n",
    "cbar.set_label(\"Cluster ID\")\n",
    "plt.title(\"DBSCAN Clusters: Age vs Log Compensation\")\n",
    "plt.xlabel(\"Age\")\n",
    "plt.ylabel(\"Log10(compensation + 1)\")\n",
    "plt.show()"
   ]
  },
  {
   "cell_type": "markdown",
   "id": "03ffb452",
   "metadata": {},
   "source": [
    "### Cluster Interpretation\n",
    "- **Cluster 1**: Mid-career, average/high pay\n",
    "- **Cluster 0**: Early/mid career, below-average pay\n",
    "- **Clusters 2–7**: Outliers\n",
    "- **-1**: Noise"
   ]
  },
  {
   "cell_type": "markdown",
   "id": "add5dc77",
   "metadata": {},
   "source": [
    "## Conclusion\n",
    "- Dominant mid-career cohort\n",
    "- 'Super-directors' via eigenvector centrality\n",
    "- DBSCAN reveals outliers and new sub-populations"
   ]
  }
 ],
 "metadata": {},
 "nbformat": 4,
 "nbformat_minor": 5
}
