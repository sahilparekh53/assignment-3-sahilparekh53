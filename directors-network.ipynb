{
 "cells": [
  {
   "cell_type": "code",
   "execution_count": 98,
   "id": "28799a07-af91-44d1-8784-47d0ad2250ce",
   "metadata": {},
   "outputs": [],
   "source": [
    "import pandas\n",
    "import math"
   ]
  },
  {
   "cell_type": "code",
   "execution_count": 99,
   "id": "59b4f077-bb53-4a6d-b193-fc3fd107ec77",
   "metadata": {},
   "outputs": [
    {
     "data": {
      "text/html": [
       "<div>\n",
       "<style scoped>\n",
       "    .dataframe tbody tr th:only-of-type {\n",
       "        vertical-align: middle;\n",
       "    }\n",
       "\n",
       "    .dataframe tbody tr th {\n",
       "        vertical-align: top;\n",
       "    }\n",
       "\n",
       "    .dataframe thead th {\n",
       "        text-align: right;\n",
       "    }\n",
       "</style>\n",
       "<table border=\"1\" class=\"dataframe\">\n",
       "  <thead>\n",
       "    <tr style=\"text-align: right;\">\n",
       "      <th></th>\n",
       "      <th>company_name</th>\n",
       "      <th>cikcode</th>\n",
       "      <th>director_name</th>\n",
       "      <th>software_background</th>\n",
       "      <th>start_date</th>\n",
       "      <th>end_date</th>\n",
       "    </tr>\n",
       "  </thead>\n",
       "  <tbody>\n",
       "    <tr>\n",
       "      <th>12485</th>\n",
       "      <td>Unum Group</td>\n",
       "      <td>5513</td>\n",
       "      <td>RONALD P. O'HANLEY</td>\n",
       "      <td>False</td>\n",
       "      <td>2015-04-09</td>\n",
       "      <td>2023-04-13</td>\n",
       "    </tr>\n",
       "    <tr>\n",
       "      <th>10963</th>\n",
       "      <td>S&amp;P Global Inc.</td>\n",
       "      <td>64040</td>\n",
       "      <td>MARCO ALVERÀ</td>\n",
       "      <td>False</td>\n",
       "      <td>2017-03-13</td>\n",
       "      <td>2020-03-30</td>\n",
       "    </tr>\n",
       "    <tr>\n",
       "      <th>8198</th>\n",
       "      <td>MICRON TECHNOLOGY INC</td>\n",
       "      <td>723125</td>\n",
       "      <td>MERCEDES JOHNSON</td>\n",
       "      <td>False</td>\n",
       "      <td>2015-12-15</td>\n",
       "      <td>2017-12-07</td>\n",
       "    </tr>\n",
       "    <tr>\n",
       "      <th>6671</th>\n",
       "      <td>Invesco Pennsylvania Value Municipal Income Trust</td>\n",
       "      <td>895528</td>\n",
       "      <td>JOEL W. MOTLEY</td>\n",
       "      <td>False</td>\n",
       "      <td>2020-06-18</td>\n",
       "      <td>2024-07-02</td>\n",
       "    </tr>\n",
       "    <tr>\n",
       "      <th>9251</th>\n",
       "      <td>OWENS &amp; MINOR INC/VA/</td>\n",
       "      <td>75252</td>\n",
       "      <td>MARK F. MCGETTRICK</td>\n",
       "      <td>False</td>\n",
       "      <td>2018-03-26</td>\n",
       "      <td>2022-03-17</td>\n",
       "    </tr>\n",
       "  </tbody>\n",
       "</table>\n",
       "</div>"
      ],
      "text/plain": [
       "                                            company_name  cikcode  \\\n",
       "12485                                         Unum Group     5513   \n",
       "10963                                    S&P Global Inc.    64040   \n",
       "8198                               MICRON TECHNOLOGY INC   723125   \n",
       "6671   Invesco Pennsylvania Value Municipal Income Trust   895528   \n",
       "9251                               OWENS & MINOR INC/VA/    75252   \n",
       "\n",
       "            director_name  software_background  start_date    end_date  \n",
       "12485  RONALD P. O'HANLEY                False  2015-04-09  2023-04-13  \n",
       "10963        MARCO ALVERÀ                False  2017-03-13  2020-03-30  \n",
       "8198     MERCEDES JOHNSON                False  2015-12-15  2017-12-07  \n",
       "6671       JOEL W. MOTLEY                False  2020-06-18  2024-07-02  \n",
       "9251   MARK F. MCGETTRICK                False  2018-03-26  2022-03-17  "
      ]
     },
     "execution_count": 99,
     "metadata": {},
     "output_type": "execute_result"
    }
   ],
   "source": [
    "# Load the dataset\n",
    "company_directorships = pandas.read_csv('company_directorships.csv')\n",
    "company_directorships.software_background = (\n",
    "     company_directorships.software_background\n",
    "         .fillna('f')\n",
    "         .str.lower()\n",
    "         .map(lambda x: x == 't')\n",
    "         )\n",
    "company_directorships.software_background = company_directorships.software_background.map(lambda x: x == 't')\n",
    "company_directorships.sample(5)"
   ]
  },
  {
   "cell_type": "code",
   "execution_count": 100,
   "id": "85988c0b-40e6-48fc-95df-e39f0432adb4",
   "metadata": {},
   "outputs": [
    {
     "data": {
      "text/html": [
       "<div>\n",
       "<style scoped>\n",
       "    .dataframe tbody tr th:only-of-type {\n",
       "        vertical-align: middle;\n",
       "    }\n",
       "\n",
       "    .dataframe tbody tr th {\n",
       "        vertical-align: top;\n",
       "    }\n",
       "\n",
       "    .dataframe thead th {\n",
       "        text-align: right;\n",
       "    }\n",
       "</style>\n",
       "<table border=\"1\" class=\"dataframe\">\n",
       "  <thead>\n",
       "    <tr style=\"text-align: right;\">\n",
       "      <th></th>\n",
       "      <th>age</th>\n",
       "      <th>compensation</th>\n",
       "      <th>gender</th>\n",
       "      <th>log_compensation</th>\n",
       "    </tr>\n",
       "    <tr>\n",
       "      <th>NAME</th>\n",
       "      <th></th>\n",
       "      <th></th>\n",
       "      <th></th>\n",
       "      <th></th>\n",
       "    </tr>\n",
       "  </thead>\n",
       "  <tbody>\n",
       "    <tr>\n",
       "      <th>A. CATHERINE NGO</th>\n",
       "      <td>64</td>\n",
       "      <td>1006154</td>\n",
       "      <td>female</td>\n",
       "      <td>6.002665</td>\n",
       "    </tr>\n",
       "    <tr>\n",
       "      <th>A. EUGENE WASHINGTON</th>\n",
       "      <td>70</td>\n",
       "      <td>324871</td>\n",
       "      <td>male</td>\n",
       "      <td>5.511712</td>\n",
       "    </tr>\n",
       "    <tr>\n",
       "      <th>A. F. PETROCELLI</th>\n",
       "      <td>80</td>\n",
       "      <td>47000</td>\n",
       "      <td>male</td>\n",
       "      <td>4.672107</td>\n",
       "    </tr>\n",
       "    <tr>\n",
       "      <th>A. FARAZ ABBASI</th>\n",
       "      <td>52</td>\n",
       "      <td>113631</td>\n",
       "      <td>male</td>\n",
       "      <td>5.055501</td>\n",
       "    </tr>\n",
       "    <tr>\n",
       "      <th>A. LARRY CHAPMAN</th>\n",
       "      <td>78</td>\n",
       "      <td>259500</td>\n",
       "      <td>male</td>\n",
       "      <td>5.414139</td>\n",
       "    </tr>\n",
       "    <tr>\n",
       "      <th>...</th>\n",
       "      <td>...</td>\n",
       "      <td>...</td>\n",
       "      <td>...</td>\n",
       "      <td>...</td>\n",
       "    </tr>\n",
       "    <tr>\n",
       "      <th>ZACKARY IRANI</th>\n",
       "      <td>58</td>\n",
       "      <td>360103</td>\n",
       "      <td>male</td>\n",
       "      <td>5.556428</td>\n",
       "    </tr>\n",
       "    <tr>\n",
       "      <th>ZAHID AFZAL</th>\n",
       "      <td>62</td>\n",
       "      <td>0</td>\n",
       "      <td>male</td>\n",
       "      <td>0.000000</td>\n",
       "    </tr>\n",
       "    <tr>\n",
       "      <th>ZENA SRIVATSA ARNOLD</th>\n",
       "      <td>46</td>\n",
       "      <td>189960</td>\n",
       "      <td>female</td>\n",
       "      <td>5.278664</td>\n",
       "    </tr>\n",
       "    <tr>\n",
       "      <th>ZENON S. NIE</th>\n",
       "      <td>73</td>\n",
       "      <td>202703</td>\n",
       "      <td>male</td>\n",
       "      <td>5.306862</td>\n",
       "    </tr>\n",
       "    <tr>\n",
       "      <th>ZHONGLI LIU</th>\n",
       "      <td>64</td>\n",
       "      <td>7043</td>\n",
       "      <td>male</td>\n",
       "      <td>3.847819</td>\n",
       "    </tr>\n",
       "  </tbody>\n",
       "</table>\n",
       "<p>5421 rows × 4 columns</p>\n",
       "</div>"
      ],
      "text/plain": [
       "                      age  compensation  gender  log_compensation\n",
       "NAME                                                             \n",
       "A. CATHERINE NGO       64       1006154  female          6.002665\n",
       "A. EUGENE WASHINGTON   70        324871    male          5.511712\n",
       "A. F. PETROCELLI       80         47000    male          4.672107\n",
       "A. FARAZ ABBASI        52        113631    male          5.055501\n",
       "A. LARRY CHAPMAN       78        259500    male          5.414139\n",
       "...                   ...           ...     ...               ...\n",
       "ZACKARY IRANI          58        360103    male          5.556428\n",
       "ZAHID AFZAL            62             0    male          0.000000\n",
       "ZENA SRIVATSA ARNOLD   46        189960  female          5.278664\n",
       "ZENON S. NIE           73        202703    male          5.306862\n",
       "ZHONGLI LIU            64          7043    male          3.847819\n",
       "\n",
       "[5421 rows x 4 columns]"
      ]
     },
     "execution_count": 100,
     "metadata": {},
     "output_type": "execute_result"
    }
   ],
   "source": [
    "compensation_and_demographics_raw = pandas.read_csv('director-details.csv')\n",
    "compensation_and_demographics_raw['NAME'] = compensation_and_demographics_raw.name.str.upper()\n",
    "\n",
    "def most_common(series):\n",
    "    mode_values = series.mode()\n",
    "    if len(mode_values) > 0:\n",
    "        return mode_values[0]\n",
    "    return None\n",
    "    \n",
    "compensation_and_demographics = pandas.DataFrame({\n",
    "    'age': compensation_and_demographics_raw.groupby('NAME').age.max(),\n",
    "    'compensation': compensation_and_demographics_raw.groupby('NAME').compensation.sum(),\n",
    "    'gender': compensation_and_demographics_raw.groupby('NAME').gender.agg(most_common)\n",
    "})\n",
    "compensation_and_demographics['log_compensation'] = (1 + compensation_and_demographics.compensation).map(math.log10)\n",
    "compensation_and_demographics"
   ]
  },
  {
   "cell_type": "code",
   "execution_count": 101,
   "id": "f29c9d82-a402-491a-9cd9-0a3a5db8983e",
   "metadata": {},
   "outputs": [
    {
     "data": {
      "text/plain": [
       "gender\n",
       "male       3850\n",
       "female     1550\n",
       "None         19\n",
       "unknown       2\n",
       "Name: count, dtype: int64"
      ]
     },
     "execution_count": 101,
     "metadata": {},
     "output_type": "execute_result"
    }
   ],
   "source": [
    "compensation_and_demographics.gender.value_counts(dropna=False)"
   ]
  },
  {
   "cell_type": "code",
   "execution_count": 102,
   "id": "ba10cf80",
   "metadata": {},
   "outputs": [
    {
     "name": "stdout",
     "output_type": "stream",
     "text": [
      "Dropping 21 directors with missing gender\n"
     ]
    }
   ],
   "source": [
    "# --- handle missing or unknown genders ---\n",
    "# drop rows where gender is None or 'unknown'\n",
    "mask = compensation_and_demographics.gender.isin([None, 'unknown'])\n",
    "print(f\"Dropping {mask.sum()} directors with missing gender\")\n",
    "compensation_and_demographics = compensation_and_demographics[~mask]\n"
   ]
  },
  {
   "cell_type": "code",
   "execution_count": 103,
   "id": "38089156",
   "metadata": {},
   "outputs": [
    {
     "data": {
      "text/plain": [
       "gender\n",
       "male      3850\n",
       "female    1550\n",
       "Name: count, dtype: int64"
      ]
     },
     "execution_count": 103,
     "metadata": {},
     "output_type": "execute_result"
    }
   ],
   "source": [
    "compensation_and_demographics.gender.value_counts(dropna=False)"
   ]
  },
  {
   "cell_type": "code",
   "execution_count": 110,
   "id": "1d74aaa8-573a-4693-9bb3-7a9ef40299cf",
   "metadata": {},
   "outputs": [
    {
     "data": {
      "text/plain": [
       "director_name\n",
       "YVETTE DAPREMONT BRIGHT     1\n",
       "A. SCOTT PARKER III         1\n",
       "A. SHANE SANDERS            1\n",
       "A. THOMAS BENDER            1\n",
       "A.F. (PETE) SLOAN           1\n",
       "                           ..\n",
       "LARRY SOLL                 13\n",
       "PREMA MATHAI-DAVIS         13\n",
       "JAMES T. BUNCH             13\n",
       "ROBERT C. TROCCOLI         13\n",
       "ALBERT R. DOWDEN           14\n",
       "Name: company_name, Length: 11827, dtype: int64"
      ]
     },
     "execution_count": 110,
     "metadata": {},
     "output_type": "execute_result"
    }
   ],
   "source": [
    "directorship_counts = company_directorships.groupby('director_name').company_name.nunique().sort_values()\n",
    "directorship_counts"
   ]
  },
  {
   "cell_type": "code",
   "execution_count": 111,
   "id": "44fd1247-353f-401d-be96-67167fcff5f8",
   "metadata": {},
   "outputs": [
    {
     "data": {
      "text/plain": [
       "Text(0, 0.5, 'How Many Directors (log10)')"
      ]
     },
     "execution_count": 111,
     "metadata": {},
     "output_type": "execute_result"
    },
    {
     "data": {
      "image/png": "[encoded data removed]",
      "text/plain": [
       "<Figure size 640x480 with 1 Axes>"
      ]
     },
     "metadata": {},
     "output_type": "display_data"
    }
   ],
   "source": [
    "ax = directorship_counts.value_counts().sort_index().map(math.log10).plot()\n",
    "ax.set_title(\"Log‐Scaled Directorship Count Distribution\")\n",
    "ax.set_xlabel(\"Number of Boards per Director (log10)\")\n",
    "ax.set_ylabel(\"How Many Directors (log10)\")"
   ]
  },
  {
   "cell_type": "code",
   "execution_count": 109,
   "id": "4716029c",
   "metadata": {},
   "outputs": [
    {
     "data": {
      "image/png": "[encoded data removed]",
      "text/plain": [
       "<Figure size 640x480 with 1 Axes>"
      ]
     },
     "metadata": {},
     "output_type": "display_data"
    },
    {
     "data": {
      "image/png": "[encoded data removed]",
      "text/plain": [
       "<Figure size 640x480 with 1 Axes>"
      ]
     },
     "metadata": {},
     "output_type": "display_data"
    },
    {
     "data": {
      "image/png": "[encoded data removed]",
      "text/plain": [
       "<Figure size 640x480 with 1 Axes>"
      ]
     },
     "metadata": {},
     "output_type": "display_data"
    },
    {
     "data": {
      "image/png": "[encoded data removed]",
      "text/plain": [
       "<Figure size 640x480 with 2 Axes>"
      ]
     },
     "metadata": {},
     "output_type": "display_data"
    }
   ],
   "source": [
    "import matplotlib.pyplot as plt\n",
    "\n",
    "# 1) Age histogram\n",
    "people_df['age'].hist(bins=20)\n",
    "plt.title(\"Age Distribution of Directors\"); plt.xlabel(\"Age\"); plt.ylabel(\"Count\")\n",
    "plt.show()\n",
    "\n",
    "# 2) Gender bar chart\n",
    "compensation_and_demographics.gender.value_counts().plot.bar()\n",
    "plt.title(\"Gender Breakdown\"); plt.xlabel(\"Gender\"); plt.ylabel(\"Count\")\n",
    "plt.show()\n",
    "\n",
    "# 3) Compensation boxplot (log)\n",
    "people_df['log_compensation'].plot.box()\n",
    "plt.title(\"Log10 Compensation Boxplot\")\n",
    "plt.ylabel(\"Log10(compensation + 1)\")\n",
    "plt.show()\n",
    "\n",
    "# 4) Correlation heatmap\n",
    "corr = people_df[['age','log_compensation','degree','eigen']].corr()\n",
    "import seaborn as sns\n",
    "sns.heatmap(corr, annot=True)\n",
    "plt.title(\"Feature Correlation Matrix\")\n",
    "plt.show()\n"
   ]
  },
  {
   "cell_type": "code",
   "execution_count": 81,
   "id": "b5e3f6e1-b9bf-4ad5-8c17-396bc1ca1cbd",
   "metadata": {},
   "outputs": [],
   "source": [
    "import networkx\n",
    "import networkx.algorithms\n",
    "graph = networkx.Graph()"
   ]
  },
  {
   "cell_type": "code",
   "execution_count": 82,
   "id": "4b18759f-11e7-4097-a5ce-2f31efe74257",
   "metadata": {},
   "outputs": [],
   "source": [
    "people = []\n",
    "companies = []\n",
    "for company_name, director_name in zip(company_directorships.company_name, company_directorships.director_name):\n",
    "    graph.add_edge(company_name, director_name)\n",
    "    people.append(director_name)\n",
    "    companies.append(company_name)"
   ]
  },
  {
   "cell_type": "code",
   "execution_count": null,
   "id": "ba07222c-8f1d-44fe-a22e-2b518d37606c",
   "metadata": {},
   "outputs": [],
   "source": [
    "biggest_connected_graph = graph.subgraph(list(networkx.connected_components(graph))[0])\n",
    "# find the largest connected component by node‐count\n",
    "# subgraph of the single largest connected component\n",
    "\n",
    "largest_cc = max(networkx.connected_components(graph), key=len)\n",
    "biggest_connected_graph = graph.subgraph(largest_cc).copy()\n"
   ]
  },
  {
   "cell_type": "code",
   "execution_count": 33,
   "id": "b6ac9a66-827b-49bf-83c9-9bcedec73a09",
   "metadata": {},
   "outputs": [
    {
     "name": "stdout",
     "output_type": "stream",
     "text": [
      "CPU times: total: 1.14 s\n",
      "Wall time: 1.14 s\n"
     ]
    }
   ],
   "source": [
    "%%time\n",
    "centrality = pandas.DataFrame({\n",
    "    'eigen': pandas.Series(\n",
    "        networkx.eigenvector_centrality(\n",
    "            biggest_connected_graph,\n",
    "            max_iter=1_000,\n",
    "            tol=1e-06,)\n",
    "        ),\n",
    "    'degree': pandas.Series(networkx.algorithms.degree_centrality(biggest_connected_graph)),\n",
    "})\n",
    "centrality['is_person'] = centrality.index.map(lambda x: x in people)"
   ]
  },
  {
   "cell_type": "markdown",
   "id": "7b593361",
   "metadata": {},
   "source": [
    "Centrality measures\n",
    "\n",
    "Eigenvector centrality: assigns higher score to nodes connected to other high-scoring nodes (identifies truly influential directors).\n",
    "\n",
    "Degree centrality: fraction of possible connections the node has (directors on many boards)."
   ]
  },
  {
   "cell_type": "markdown",
   "id": "71975c8b",
   "metadata": {},
   "source": [
    "# – eigenvector centrality: measures how “influential” a node is by giving higher score to nodes \n",
    "#   connected to other high‐score nodes (so a director linked to highly connected companies → higher eigen).\n",
    "# – degree centrality: proportion of nodes a node is directly connected to (so directors sitting \n",
    "#   on many different boards → high degree).\n"
   ]
  },
  {
   "cell_type": "code",
   "execution_count": 112,
   "id": "9e374096-f944-45a9-99b1-911fdeadd4c4",
   "metadata": {},
   "outputs": [],
   "source": [
    "people_df = centrality[centrality.is_person].merge(compensation_and_demographics, left_index=True, right_index=True)"
   ]
  },
  {
   "cell_type": "code",
   "execution_count": 113,
   "id": "2ee556f1-50a3-4c7c-a2da-3e6985a9d1a3",
   "metadata": {},
   "outputs": [
    {
     "data": {
      "text/html": [
       "<div>\n",
       "<style scoped>\n",
       "    .dataframe tbody tr th:only-of-type {\n",
       "        vertical-align: middle;\n",
       "    }\n",
       "\n",
       "    .dataframe tbody tr th {\n",
       "        vertical-align: top;\n",
       "    }\n",
       "\n",
       "    .dataframe thead th {\n",
       "        text-align: right;\n",
       "    }\n",
       "</style>\n",
       "<table border=\"1\" class=\"dataframe\">\n",
       "  <thead>\n",
       "    <tr style=\"text-align: right;\">\n",
       "      <th></th>\n",
       "      <th>eigen</th>\n",
       "      <th>degree</th>\n",
       "      <th>is_person</th>\n",
       "      <th>is_company</th>\n",
       "      <th>is_software_company</th>\n",
       "      <th>is_software_person</th>\n",
       "      <th>age</th>\n",
       "      <th>compensation</th>\n",
       "      <th>gender</th>\n",
       "      <th>log_compensation</th>\n",
       "    </tr>\n",
       "  </thead>\n",
       "  <tbody>\n",
       "    <tr>\n",
       "      <th>JOEL W. MOTLEY</th>\n",
       "      <td>1.024389e-01</td>\n",
       "      <td>0.001585</td>\n",
       "      <td>True</td>\n",
       "      <td>False</td>\n",
       "      <td>False</td>\n",
       "      <td>False</td>\n",
       "      <td>72</td>\n",
       "      <td>3118870</td>\n",
       "      <td>male</td>\n",
       "      <td>6.493997</td>\n",
       "    </tr>\n",
       "    <tr>\n",
       "      <th>DANIEL S. VANDIVORT</th>\n",
       "      <td>1.024389e-01</td>\n",
       "      <td>0.001585</td>\n",
       "      <td>True</td>\n",
       "      <td>False</td>\n",
       "      <td>False</td>\n",
       "      <td>False</td>\n",
       "      <td>69</td>\n",
       "      <td>3353265</td>\n",
       "      <td>male</td>\n",
       "      <td>6.525468</td>\n",
       "    </tr>\n",
       "    <tr>\n",
       "      <th>DOUGLAS SHARP</th>\n",
       "      <td>1.024389e-01</td>\n",
       "      <td>0.001585</td>\n",
       "      <td>True</td>\n",
       "      <td>False</td>\n",
       "      <td>False</td>\n",
       "      <td>False</td>\n",
       "      <td>50</td>\n",
       "      <td>0</td>\n",
       "      <td>male</td>\n",
       "      <td>0.000000</td>\n",
       "    </tr>\n",
       "    <tr>\n",
       "      <th>ELI JONES</th>\n",
       "      <td>1.024389e-01</td>\n",
       "      <td>0.001585</td>\n",
       "      <td>True</td>\n",
       "      <td>False</td>\n",
       "      <td>False</td>\n",
       "      <td>False</td>\n",
       "      <td>63</td>\n",
       "      <td>3063255</td>\n",
       "      <td>male</td>\n",
       "      <td>6.486183</td>\n",
       "    </tr>\n",
       "    <tr>\n",
       "      <th>TERESA M. RESSEL</th>\n",
       "      <td>1.024389e-01</td>\n",
       "      <td>0.001585</td>\n",
       "      <td>True</td>\n",
       "      <td>False</td>\n",
       "      <td>False</td>\n",
       "      <td>False</td>\n",
       "      <td>62</td>\n",
       "      <td>3190130</td>\n",
       "      <td>female</td>\n",
       "      <td>6.503809</td>\n",
       "    </tr>\n",
       "    <tr>\n",
       "      <th>...</th>\n",
       "      <td>...</td>\n",
       "      <td>...</td>\n",
       "      <td>...</td>\n",
       "      <td>...</td>\n",
       "      <td>...</td>\n",
       "      <td>...</td>\n",
       "      <td>...</td>\n",
       "      <td>...</td>\n",
       "      <td>...</td>\n",
       "      <td>...</td>\n",
       "    </tr>\n",
       "    <tr>\n",
       "      <th>ANDREW H. REICH</th>\n",
       "      <td>8.400282e-35</td>\n",
       "      <td>0.000122</td>\n",
       "      <td>True</td>\n",
       "      <td>False</td>\n",
       "      <td>False</td>\n",
       "      <td>False</td>\n",
       "      <td>69</td>\n",
       "      <td>120000</td>\n",
       "      <td>male</td>\n",
       "      <td>5.079185</td>\n",
       "    </tr>\n",
       "    <tr>\n",
       "      <th>RICHARD P. HOWARD</th>\n",
       "      <td>8.342633e-35</td>\n",
       "      <td>0.000122</td>\n",
       "      <td>True</td>\n",
       "      <td>False</td>\n",
       "      <td>False</td>\n",
       "      <td>False</td>\n",
       "      <td>78</td>\n",
       "      <td>0</td>\n",
       "      <td>male</td>\n",
       "      <td>0.000000</td>\n",
       "    </tr>\n",
       "    <tr>\n",
       "      <th>NANCY J. FLOYD PRUE</th>\n",
       "      <td>8.342633e-35</td>\n",
       "      <td>0.000122</td>\n",
       "      <td>True</td>\n",
       "      <td>False</td>\n",
       "      <td>False</td>\n",
       "      <td>False</td>\n",
       "      <td>70</td>\n",
       "      <td>50356</td>\n",
       "      <td>female</td>\n",
       "      <td>4.702060</td>\n",
       "    </tr>\n",
       "    <tr>\n",
       "      <th>LAWRENCE A. KOBRIN</th>\n",
       "      <td>8.342633e-35</td>\n",
       "      <td>0.000122</td>\n",
       "      <td>True</td>\n",
       "      <td>False</td>\n",
       "      <td>False</td>\n",
       "      <td>False</td>\n",
       "      <td>91</td>\n",
       "      <td>30356</td>\n",
       "      <td>male</td>\n",
       "      <td>4.482259</td>\n",
       "    </tr>\n",
       "    <tr>\n",
       "      <th>ANDREW S. BORODACH</th>\n",
       "      <td>8.342633e-35</td>\n",
       "      <td>0.000122</td>\n",
       "      <td>True</td>\n",
       "      <td>False</td>\n",
       "      <td>False</td>\n",
       "      <td>False</td>\n",
       "      <td>56</td>\n",
       "      <td>0</td>\n",
       "      <td>male</td>\n",
       "      <td>0.000000</td>\n",
       "    </tr>\n",
       "  </tbody>\n",
       "</table>\n",
       "<p>3723 rows × 10 columns</p>\n",
       "</div>"
      ],
      "text/plain": [
       "                            eigen    degree  is_person  is_company  \\\n",
       "JOEL W. MOTLEY       1.024389e-01  0.001585       True       False   \n",
       "DANIEL S. VANDIVORT  1.024389e-01  0.001585       True       False   \n",
       "DOUGLAS SHARP        1.024389e-01  0.001585       True       False   \n",
       "ELI JONES            1.024389e-01  0.001585       True       False   \n",
       "TERESA M. RESSEL     1.024389e-01  0.001585       True       False   \n",
       "...                           ...       ...        ...         ...   \n",
       "ANDREW H. REICH      8.400282e-35  0.000122       True       False   \n",
       "RICHARD P. HOWARD    8.342633e-35  0.000122       True       False   \n",
       "NANCY J. FLOYD PRUE  8.342633e-35  0.000122       True       False   \n",
       "LAWRENCE A. KOBRIN   8.342633e-35  0.000122       True       False   \n",
       "ANDREW S. BORODACH   8.342633e-35  0.000122       True       False   \n",
       "\n",
       "                     is_software_company  is_software_person  age  \\\n",
       "JOEL W. MOTLEY                     False               False   72   \n",
       "DANIEL S. VANDIVORT                False               False   69   \n",
       "DOUGLAS SHARP                      False               False   50   \n",
       "ELI JONES                          False               False   63   \n",
       "TERESA M. RESSEL                   False               False   62   \n",
       "...                                  ...                 ...  ...   \n",
       "ANDREW H. REICH                    False               False   69   \n",
       "RICHARD P. HOWARD                  False               False   78   \n",
       "NANCY J. FLOYD PRUE                False               False   70   \n",
       "LAWRENCE A. KOBRIN                 False               False   91   \n",
       "ANDREW S. BORODACH                 False               False   56   \n",
       "\n",
       "                     compensation  gender  log_compensation  \n",
       "JOEL W. MOTLEY            3118870    male          6.493997  \n",
       "DANIEL S. VANDIVORT       3353265    male          6.525468  \n",
       "DOUGLAS SHARP                   0    male          0.000000  \n",
       "ELI JONES                 3063255    male          6.486183  \n",
       "TERESA M. RESSEL          3190130  female          6.503809  \n",
       "...                           ...     ...               ...  \n",
       "ANDREW H. REICH            120000    male          5.079185  \n",
       "RICHARD P. HOWARD               0    male          0.000000  \n",
       "NANCY J. FLOYD PRUE         50356  female          4.702060  \n",
       "LAWRENCE A. KOBRIN          30356    male          4.482259  \n",
       "ANDREW S. BORODACH              0    male          0.000000  \n",
       "\n",
       "[3723 rows x 10 columns]"
      ]
     },
     "execution_count": 113,
     "metadata": {},
     "output_type": "execute_result"
    }
   ],
   "source": [
    "people_df.sort_values('eigen', ascending=False)"
   ]
  },
  {
   "cell_type": "code",
   "execution_count": 114,
   "id": "f0937be4-f460-4959-81a5-b7737898d905",
   "metadata": {},
   "outputs": [
    {
     "data": {
      "text/html": [
       "<div>\n",
       "<style scoped>\n",
       "    .dataframe tbody tr th:only-of-type {\n",
       "        vertical-align: middle;\n",
       "    }\n",
       "\n",
       "    .dataframe tbody tr th {\n",
       "        vertical-align: top;\n",
       "    }\n",
       "\n",
       "    .dataframe thead th {\n",
       "        text-align: right;\n",
       "    }\n",
       "</style>\n",
       "<table border=\"1\" class=\"dataframe\">\n",
       "  <thead>\n",
       "    <tr style=\"text-align: right;\">\n",
       "      <th></th>\n",
       "      <th>company_name</th>\n",
       "      <th>cikcode</th>\n",
       "      <th>director_name</th>\n",
       "      <th>software_background</th>\n",
       "      <th>start_date</th>\n",
       "      <th>end_date</th>\n",
       "    </tr>\n",
       "  </thead>\n",
       "  <tbody>\n",
       "    <tr>\n",
       "      <th>6297</th>\n",
       "      <td>Invesco Advantage Municipal Income Trust II</td>\n",
       "      <td>908993</td>\n",
       "      <td>ELIZABETH KRENTZMAN</td>\n",
       "      <td>False</td>\n",
       "      <td>2021-06-22</td>\n",
       "      <td>2024-07-02</td>\n",
       "    </tr>\n",
       "    <tr>\n",
       "      <th>6352</th>\n",
       "      <td>Invesco Bond Fund</td>\n",
       "      <td>5094</td>\n",
       "      <td>ELIZABETH KRENTZMAN</td>\n",
       "      <td>False</td>\n",
       "      <td>2021-06-22</td>\n",
       "      <td>2024-07-02</td>\n",
       "    </tr>\n",
       "    <tr>\n",
       "      <th>6407</th>\n",
       "      <td>Invesco California Value Municipal Income Trust</td>\n",
       "      <td>895531</td>\n",
       "      <td>ELIZABETH KRENTZMAN</td>\n",
       "      <td>False</td>\n",
       "      <td>2021-06-22</td>\n",
       "      <td>2024-07-02</td>\n",
       "    </tr>\n",
       "    <tr>\n",
       "      <th>6462</th>\n",
       "      <td>Invesco High Income Trust II</td>\n",
       "      <td>846671</td>\n",
       "      <td>ELIZABETH KRENTZMAN</td>\n",
       "      <td>False</td>\n",
       "      <td>2021-06-22</td>\n",
       "      <td>2024-07-02</td>\n",
       "    </tr>\n",
       "    <tr>\n",
       "      <th>6512</th>\n",
       "      <td>Invesco Municipal Income Opportunities Trust</td>\n",
       "      <td>835333</td>\n",
       "      <td>ELIZABETH KRENTZMAN</td>\n",
       "      <td>False</td>\n",
       "      <td>2021-06-22</td>\n",
       "      <td>2024-07-02</td>\n",
       "    </tr>\n",
       "    <tr>\n",
       "      <th>6546</th>\n",
       "      <td>Invesco Municipal Opportunity Trust</td>\n",
       "      <td>884152</td>\n",
       "      <td>ELIZABETH KRENTZMAN</td>\n",
       "      <td>False</td>\n",
       "      <td>2021-06-22</td>\n",
       "      <td>2024-07-02</td>\n",
       "    </tr>\n",
       "    <tr>\n",
       "      <th>6601</th>\n",
       "      <td>Invesco Municipal Trust</td>\n",
       "      <td>877463</td>\n",
       "      <td>ELIZABETH KRENTZMAN</td>\n",
       "      <td>False</td>\n",
       "      <td>2021-06-22</td>\n",
       "      <td>2024-07-02</td>\n",
       "    </tr>\n",
       "    <tr>\n",
       "      <th>6656</th>\n",
       "      <td>Invesco Pennsylvania Value Municipal Income Trust</td>\n",
       "      <td>895528</td>\n",
       "      <td>ELIZABETH KRENTZMAN</td>\n",
       "      <td>False</td>\n",
       "      <td>2021-06-22</td>\n",
       "      <td>2024-07-02</td>\n",
       "    </tr>\n",
       "    <tr>\n",
       "      <th>6706</th>\n",
       "      <td>Invesco Quality Municipal Income Trust</td>\n",
       "      <td>885125</td>\n",
       "      <td>ELIZABETH KRENTZMAN</td>\n",
       "      <td>False</td>\n",
       "      <td>2021-06-22</td>\n",
       "      <td>2024-07-02</td>\n",
       "    </tr>\n",
       "    <tr>\n",
       "      <th>6740</th>\n",
       "      <td>Invesco Senior Income Trust</td>\n",
       "      <td>1059386</td>\n",
       "      <td>ELIZABETH KRENTZMAN</td>\n",
       "      <td>False</td>\n",
       "      <td>2021-06-22</td>\n",
       "      <td>2024-07-02</td>\n",
       "    </tr>\n",
       "    <tr>\n",
       "      <th>6793</th>\n",
       "      <td>Invesco Trust for Investment Grade Municipals</td>\n",
       "      <td>880892</td>\n",
       "      <td>ELIZABETH KRENTZMAN</td>\n",
       "      <td>False</td>\n",
       "      <td>2021-06-22</td>\n",
       "      <td>2024-07-02</td>\n",
       "    </tr>\n",
       "    <tr>\n",
       "      <th>6848</th>\n",
       "      <td>Invesco Trust for Investment Grade New York Mu...</td>\n",
       "      <td>883265</td>\n",
       "      <td>ELIZABETH KRENTZMAN</td>\n",
       "      <td>False</td>\n",
       "      <td>2021-06-22</td>\n",
       "      <td>2024-07-02</td>\n",
       "    </tr>\n",
       "    <tr>\n",
       "      <th>6898</th>\n",
       "      <td>Invesco Value Municipal Income Trust</td>\n",
       "      <td>885601</td>\n",
       "      <td>ELIZABETH KRENTZMAN</td>\n",
       "      <td>False</td>\n",
       "      <td>2021-06-22</td>\n",
       "      <td>2024-07-02</td>\n",
       "    </tr>\n",
       "  </tbody>\n",
       "</table>\n",
       "</div>"
      ],
      "text/plain": [
       "                                           company_name  cikcode  \\\n",
       "6297        Invesco Advantage Municipal Income Trust II   908993   \n",
       "6352                                  Invesco Bond Fund     5094   \n",
       "6407    Invesco California Value Municipal Income Trust   895531   \n",
       "6462                       Invesco High Income Trust II   846671   \n",
       "6512       Invesco Municipal Income Opportunities Trust   835333   \n",
       "6546                Invesco Municipal Opportunity Trust   884152   \n",
       "6601                            Invesco Municipal Trust   877463   \n",
       "6656  Invesco Pennsylvania Value Municipal Income Trust   895528   \n",
       "6706             Invesco Quality Municipal Income Trust   885125   \n",
       "6740                        Invesco Senior Income Trust  1059386   \n",
       "6793      Invesco Trust for Investment Grade Municipals   880892   \n",
       "6848  Invesco Trust for Investment Grade New York Mu...   883265   \n",
       "6898               Invesco Value Municipal Income Trust   885601   \n",
       "\n",
       "            director_name  software_background  start_date    end_date  \n",
       "6297  ELIZABETH KRENTZMAN                False  2021-06-22  2024-07-02  \n",
       "6352  ELIZABETH KRENTZMAN                False  2021-06-22  2024-07-02  \n",
       "6407  ELIZABETH KRENTZMAN                False  2021-06-22  2024-07-02  \n",
       "6462  ELIZABETH KRENTZMAN                False  2021-06-22  2024-07-02  \n",
       "6512  ELIZABETH KRENTZMAN                False  2021-06-22  2024-07-02  \n",
       "6546  ELIZABETH KRENTZMAN                False  2021-06-22  2024-07-02  \n",
       "6601  ELIZABETH KRENTZMAN                False  2021-06-22  2024-07-02  \n",
       "6656  ELIZABETH KRENTZMAN                False  2021-06-22  2024-07-02  \n",
       "6706  ELIZABETH KRENTZMAN                False  2021-06-22  2024-07-02  \n",
       "6740  ELIZABETH KRENTZMAN                False  2021-06-22  2024-07-02  \n",
       "6793  ELIZABETH KRENTZMAN                False  2021-06-22  2024-07-02  \n",
       "6848  ELIZABETH KRENTZMAN                False  2021-06-22  2024-07-02  \n",
       "6898  ELIZABETH KRENTZMAN                False  2021-06-22  2024-07-02  "
      ]
     },
     "execution_count": 114,
     "metadata": {},
     "output_type": "execute_result"
    }
   ],
   "source": [
    "company_directorships[company_directorships.director_name == 'ELIZABETH KRENTZMAN']"
   ]
  },
  {
   "cell_type": "code",
   "execution_count": 115,
   "id": "45e5f84e-ecf1-491c-b0bc-a2532de0bc52",
   "metadata": {},
   "outputs": [],
   "source": [
    "import sklearn.cluster"
   ]
  },
  {
   "cell_type": "code",
   "execution_count": 116,
   "id": "25ef7ed7-b7df-4649-81be-ba066ff9cc9b",
   "metadata": {},
   "outputs": [],
   "source": [
    "import sklearn.preprocessing\n",
    "robust_scaler = sklearn.preprocessing.RobustScaler()\n",
    "age_and_demographics_scaled = robust_scaler.fit_transform(people_df[['age', 'log_compensation', 'degree', 'eigen']])\n"
   ]
  },
  {
   "cell_type": "code",
   "execution_count": 117,
   "id": "e3f75a42-4e69-4356-aaa8-70b0b4b16fc8",
   "metadata": {},
   "outputs": [
    {
     "data": {
      "text/plain": [
       "cluster_id\n",
       " 1    3101\n",
       " 0     384\n",
       " 2     107\n",
       "-1      72\n",
       " 3      24\n",
       " 4      19\n",
       " 7       8\n",
       " 6       5\n",
       " 5       3\n",
       "Name: count, dtype: int64"
      ]
     },
     "execution_count": 117,
     "metadata": {},
     "output_type": "execute_result"
    }
   ],
   "source": [
    "dbscan = sklearn.cluster.DBSCAN(eps=0.4)\n",
    "\n",
    "# cluster directors by age, compensation, and centrality scores\n",
    "dbscan = sklearn.cluster.DBSCAN(\n",
    "    eps=0.4,\n",
    "    min_samples=5,       # ensure small noise clusters are treated as outliers\n",
    "    metric='euclidean'   # default, but explicit for clarity\n",
    ")\n",
    "# eps is the maximum distance between two samples for one to be considered as in the neighborhood of the other.\n",
    "\n",
    "people_df['cluster_id'] = dbscan.fit_predict(age_and_demographics_scaled)\n",
    "people_df.cluster_id.value_counts()"
   ]
  },
  {
   "cell_type": "code",
   "execution_count": 118,
   "id": "68e8717b-a2fa-4c7b-987b-95e5f0e0358f",
   "metadata": {},
   "outputs": [
    {
     "data": {
      "image/png": "[encoded data removed]",
      "text/plain": [
       "<Figure size 640x480 with 2 Axes>"
      ]
     },
     "metadata": {},
     "output_type": "display_data"
    }
   ],
   "source": [
    "ax = people_df.plot.scatter(\n",
    "    x='age', y='log_compensation',\n",
    "    c='cluster_id', cmap='rainbow', s=6\n",
    ")\n",
    "ax.set_title(\"DBSCAN Clusters: Age vs. Log Compensation\")\n",
    "ax.set_xlabel(\"Age\")\n",
    "ax.set_ylabel(\"Log10(compensation + 1)\")\n",
    "plt.show()\n"
   ]
  },
  {
   "cell_type": "markdown",
   "id": "cdc9b9db",
   "metadata": {},
   "source": [
    "### Cluster Interpretation\n",
    "- **Cluster 1 (n=3117):** Core group of mid‐career (55–75 yrs) directors earning average to above‐average compensation.\n",
    "- **Cluster 0 (n=385):** Early‐mid career (45–65 yrs), slightly below‐average compensation.\n",
    "- **Clusters 2–7 (small groups):** Outliers (e.g., very high pay or very young/old).\n",
    "- **Label –1:** Noise points not fitting any cluster.\n"
   ]
  },
  {
   "cell_type": "code",
   "execution_count": 91,
   "id": "282b9b61-9d9b-45a2-9b32-676a4e6d2d91",
   "metadata": {},
   "outputs": [
    {
     "data": {
      "text/plain": [
       "eigen                  0.102439\n",
       "degree                 0.001585\n",
       "is_person                  True\n",
       "is_company                False\n",
       "is_software_company       False\n",
       "is_software_person        False\n",
       "age                          65\n",
       "compensation            3408245\n",
       "gender                   female\n",
       "log_compensation       6.532531\n",
       "cluster_id                    2\n",
       "Name: ELIZABETH KRENTZMAN, dtype: object"
      ]
     },
     "execution_count": 91,
     "metadata": {},
     "output_type": "execute_result"
    }
   ],
   "source": [
    "people_df.loc['ELIZABETH KRENTZMAN']"
   ]
  },
  {
   "cell_type": "markdown",
   "id": "370127ee",
   "metadata": {},
   "source": [
    "## Conclusion\n",
    "- The board network is dominated by a large mid‐career cohort (Cluster 1).\n",
    "- A handful of “super-directors” emerge via eigenvector centrality (e.g. Daniel S. Vandivort).\n",
    "- DBSCAN outliers highlight distinct sub-populations (high-pay, early‐entry).\n",
    "- This analysis shows how network position, age, and compensation interplay in director careers.\n"
   ]
  },
  {
   "cell_type": "code",
   "execution_count": null,
   "id": "115d780c-c8dd-496d-acae-5ad88648b73d",
   "metadata": {},
   "outputs": [],
   "source": []
  },
  {
   "cell_type": "code",
   "execution_count": null,
   "id": "52bf560e-de0e-4738-bb1f-818b9cc7264d",
   "metadata": {},
   "outputs": [],
   "source": []
  }
 ],
 "metadata": {
  "kernelspec": {
   "display_name": "Python 3",
   "language": "python",
   "name": "python3"
  },
  "language_info": {
   "codemirror_mode": {
    "name": "ipython",
    "version": 3
   },
   "file_extension": ".py",
   "mimetype": "text/x-python",
   "name": "python",
   "nbconvert_exporter": "python",
   "pygments_lexer": "ipython3",
   "version": "3.13.2"
  }
 },
 "nbformat": 4,
 "nbformat_minor": 5
}
